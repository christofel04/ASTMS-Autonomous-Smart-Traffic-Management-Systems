{
 "cells": [
  {
   "cell_type": "code",
   "execution_count": 1,
   "id": "c15bcff5",
   "metadata": {},
   "outputs": [],
   "source": [
    "import pandas as pd\n",
    "import numpy as np\n",
    "import seaborn as sns"
   ]
  },
  {
   "cell_type": "markdown",
   "id": "696466b3",
   "metadata": {},
   "source": [
    "## Define Tuning Hyperparameter Parameter Testing"
   ]
  },
  {
   "cell_type": "code",
   "execution_count": 2,
   "id": "49414cba",
   "metadata": {},
   "outputs": [],
   "source": [
    "# There are 5 Hyperparameter Machine Learning YOLO V5 Hyperparameter Parameter Tuning\n",
    "\n",
    "Hyperparameter_lr0_Parameter = [\n",
    "    0.001,\n",
    "    0.1\n",
    "]\n",
    "\n",
    "Hyperparameter_momentum_Parameter = [ \n",
    "    0.2 ,\n",
    "    0.99\n",
    "]\n",
    "\n",
    "Hyperparameter_mosaic_Parameter = [\n",
    "    0.2 ,\n",
    "    1\n",
    "]\n",
    "\n",
    "Hyperparameter_degrees_Parameter = [\n",
    "    1 ,\n",
    "    359\n",
    "]\n",
    "\n",
    "Hyperparameter_scale_Parameter = [\n",
    "    0.2 ,\n",
    "    1\n",
    "]\n",
    "\n",
    "Hyperparameter_weight_decay_Parameter = [\n",
    "    \n",
    "    0.0005 ,\n",
    "    0.05\n",
    "]"
   ]
  },
  {
   "cell_type": "code",
   "execution_count": 3,
   "id": "a2f68cda",
   "metadata": {},
   "outputs": [],
   "source": [
    "# Create Data Table Hyperparameter Machine Learning YOLO V5 Hyperparameter Parameter Tuning\n",
    "\n",
    "Hyperparameter_ML_Tuning_DF = pd.DataFrame( { \"Parameter_Tuning\" : [] ,\n",
    "                                             \"Parameter_lr0\" : [] ,\n",
    "                                             \"Parameter_momentum\" : [] ,\n",
    "                                             \"Parameter_mosaic\" : [] ,\n",
    "                                             \"Parameter_degrees\" : [] ,\n",
    "                                             \"Parameter_scale\" : [] ,\n",
    "                                             \"Parameter_weight_decay\" : [] ,\n",
    "                                             \"Parameter_mAP_Metrics\" : [] })\n",
    "                                             \n",
    "                                    "
   ]
  },
  {
   "cell_type": "code",
   "execution_count": 4,
   "id": "0db3f15b",
   "metadata": {},
   "outputs": [],
   "source": [
    "import os\n",
    "\n",
    "def list_files(startpath):\n",
    "    for root, dirs, files in os.walk(startpath):\n",
    "        level = root.replace(startpath, '').count(os.sep)\n",
    "        indent = ' ' * 4 * (level)\n",
    "        print('{}{}/'.format(indent, os.path.basename(root)))\n",
    "        subindent = ' ' * 4 * (level + 1)\n",
    "        for f in files:\n",
    "            if f.find( \".jpg\" ) == -1 :\n",
    "                if f.find( \".txt\" )== -1 :\n",
    "                    print('{}{}'.format(subindent, f))"
   ]
  },
  {
   "cell_type": "code",
   "execution_count": 5,
   "id": "66b9487c",
   "metadata": {},
   "outputs": [],
   "source": [
    "YOLO_V5_PATH_DIRECTORY = \"/home/ofel04/yolov5/\"\n",
    "\n",
    "YOLO_V5_PATH_DIRECTORY_DATA_TRAINING = \"/home/ofel04/yolov5/data/traffic_data\""
   ]
  },
  {
   "cell_type": "code",
   "execution_count": 6,
   "id": "70bffe49",
   "metadata": {},
   "outputs": [
    {
     "name": "stdout",
     "output_type": "stream",
     "text": [
      "traffic_data/\n",
      "    data_1.yaml\n",
      "    valid/\n",
      "        labels.cache\n",
      "    train/\n",
      "        labels.cache\n",
      "    images/\n",
      "        test/\n",
      "        val/\n",
      "        train/\n",
      "    labels/\n",
      "        train.cache\n",
      "        val.cache\n",
      "        test/\n",
      "        val/\n",
      "        train/\n"
     ]
    }
   ],
   "source": [
    "list_files( YOLO_V5_PATH_DIRECTORY_DATA_TRAINING )"
   ]
  },
  {
   "cell_type": "markdown",
   "id": "29a70a8e",
   "metadata": {},
   "source": [
    "## Training Tuning Hyperparameter Machine Learning YOLO V5 Hyperparameter Parameter Tuning"
   ]
  },
  {
   "cell_type": "code",
   "execution_count": 7,
   "id": "0a6e4a7a",
   "metadata": {},
   "outputs": [],
   "source": [
    "NUMBER_OF_HYPERPARAMETER_TUNING = 30\n",
    "\n",
    "NAME_OF_PROJECT_HYPERPARAMETER_TUNING = \"Traffic_Vehicle_Detection\"\n",
    "\n",
    "NAME_OF_FIRST_EXPERIMENT_HYPERPARAMETER_TUNING = \"Experiment_YOLO_V5_Hyperparameter\"\n",
    "\n",
    "NAME_OF_FOLDER_HYPERPARAMETER_FILES_HYPERPARAMETER_TUNING = \"/home/ofel04/yolov5/data/hyps_Hyperparameter_Tuning/\"\n",
    "\n",
    "NAME_OF_FILE_HYPERPARAMETER_FILES_HYPERPARAMETER_TUNING = \"hyp.scratch.yaml\"\n",
    "\n",
    "NUMBER_OF_HYPERPARAMETER_TUNING_TRAIN_EPOCHS = 10"
   ]
  },
  {
   "cell_type": "code",
   "execution_count": 8,
   "id": "e5a9884c",
   "metadata": {},
   "outputs": [],
   "source": [
    "import re\n",
    "def replace( filePath, text, subs, flags=0 ):\n",
    "    with open( filePath, \"r+\" ) as file:\n",
    "        fileContents = file.read()\n",
    "        textPattern = re.compile( re.escape( text ), flags )\n",
    "        fileContents = textPattern.sub( subs, fileContents )\n",
    "        file.seek( 0 )\n",
    "        file.truncate()\n",
    "        file.write( fileContents )"
   ]
  },
  {
   "cell_type": "code",
   "execution_count": 16,
   "id": "33429da4",
   "metadata": {},
   "outputs": [
    {
     "name": "stdout",
     "output_type": "stream",
     "text": [
      "\r\n"
     ]
    }
   ],
   "source": [
    "!export LD_LIBRARY_PATH=$LD_LIBRARY_PATH:/home/ofel04/cudnn-linux-x86_64-8.9.1.23_cuda11-archive/lib/\n",
    "!echo $LD_LIBRARY_PATH\n",
    "!export HOME=/home/ofel04/"
   ]
  },
  {
   "cell_type": "code",
   "execution_count": 17,
   "id": "e134197a",
   "metadata": {},
   "outputs": [
    {
     "ename": "ImportError",
     "evalue": "libcudnn.so.8: cannot open shared object file: No such file or directory",
     "output_type": "error",
     "traceback": [
      "\u001b[0;31m---------------------------------------------------------------------------\u001b[0m",
      "\u001b[0;31mImportError\u001b[0m                               Traceback (most recent call last)",
      "Cell \u001b[0;32mIn[17], line 1\u001b[0m\n\u001b[0;32m----> 1\u001b[0m \u001b[38;5;28;01mimport\u001b[39;00m \u001b[38;5;21;01mtorch\u001b[39;00m\n",
      "File \u001b[0;32m~/.local/lib/python3.8/site-packages/torch/__init__.py:229\u001b[0m\n\u001b[1;32m    227\u001b[0m     \u001b[38;5;28;01mif\u001b[39;00m USE_GLOBAL_DEPS:\n\u001b[1;32m    228\u001b[0m         _load_global_deps()\n\u001b[0;32m--> 229\u001b[0m     \u001b[38;5;28;01mfrom\u001b[39;00m \u001b[38;5;21;01mtorch\u001b[39;00m\u001b[38;5;21;01m.\u001b[39;00m\u001b[38;5;21;01m_C\u001b[39;00m \u001b[38;5;28;01mimport\u001b[39;00m \u001b[38;5;241m*\u001b[39m  \u001b[38;5;66;03m# noqa: F403\u001b[39;00m\n\u001b[1;32m    231\u001b[0m \u001b[38;5;66;03m# Appease the type checker; ordinarily this binding is inserted by the\u001b[39;00m\n\u001b[1;32m    232\u001b[0m \u001b[38;5;66;03m# torch._C module initialization code in C\u001b[39;00m\n\u001b[1;32m    233\u001b[0m \u001b[38;5;28;01mif\u001b[39;00m TYPE_CHECKING:\n",
      "\u001b[0;31mImportError\u001b[0m: libcudnn.so.8: cannot open shared object file: No such file or directory"
     ]
    }
   ],
   "source": [
    "import torch"
   ]
  },
  {
   "cell_type": "code",
   "execution_count": null,
   "id": "aaa34d94",
   "metadata": {},
   "outputs": [],
   "source": [
    "torch.__version__"
   ]
  },
  {
   "cell_type": "code",
   "execution_count": null,
   "id": "f203da3c",
   "metadata": {},
   "outputs": [],
   "source": [
    "import torchvision"
   ]
  },
  {
   "cell_type": "code",
   "execution_count": null,
   "id": "f73124fa",
   "metadata": {},
   "outputs": [],
   "source": [
    "torchvision.__version__"
   ]
  },
  {
   "cell_type": "code",
   "execution_count": null,
   "id": "f6d8ed0d",
   "metadata": {},
   "outputs": [],
   "source": [
    "#!echo \" \"|pip install torchvision==0.15.2"
   ]
  },
  {
   "cell_type": "code",
   "execution_count": null,
   "id": "c8de646c",
   "metadata": {},
   "outputs": [],
   "source": [
    "import random\n",
    "\n",
    "import subprocess\n",
    "\n",
    "for Number_of_Hyperparameter_Tuning in range( NUMBER_OF_HYPERPARAMETER_TUNING ) :\n",
    "    \n",
    "    print( \"Hyperparameter Tuning Number \" + str( Number_of_Hyperparameter_Tuning ) )\n",
    "\n",
    "    # First Create Hyperparameter Machine Learning YOLO V5 Hyperparameter Parameter Tuning\n",
    "    \n",
    "    Hyperparameter_lr0 = Hyperparameter_lr0_Parameter[ 0 ] + random.randint( 0 , 10 )/ 10 * ( Hyperparameter_lr0_Parameter[ 1 ] - Hyperparameter_lr0_Parameter[ 0 ] )\n",
    "    \n",
    "    Hyperparameter_momentum = Hyperparameter_momentum_Parameter[ 0 ] + random.randint( 0 , 10 )/ 10 * ( Hyperparameter_momentum_Parameter[ 1 ] - Hyperparameter_momentum_Parameter[ 0 ] )\n",
    "\n",
    "    Hyperparameter_mosaic = Hyperparameter_mosaic_Parameter[ 0 ] + random.randint( 0 , 10 )/ 10 * ( Hyperparameter_mosaic_Parameter[ 1 ] - Hyperparameter_mosaic_Parameter[ 0 ] )\n",
    "    \n",
    "    Hyperparameter_degrees = Hyperparameter_degrees_Parameter[ 0 ] + random.randint( 0 , 10 )/ 10 * ( Hyperparameter_degrees_Parameter[ 1 ] - Hyperparameter_degrees_Parameter[ 0 ] )\n",
    "    \n",
    "    Hyperparameter_scale = Hyperparameter_degrees_Parameter[ 0 ] + random.randint( 0 , 10 )/ 10 * ( Hyperparameter_scale_Parameter[ 1 ] - Hyperparameter_scale_Parameter[ 0 ] )\n",
    "    \n",
    "    Hyperparameter_weight_decay = Hyperparameter_weight_decay_Parameter[ 0 ] + random.randint( 0 , 10 )/ 10 * ( Hyperparameter_weight_decay_Parameter[ 1 ] - Hyperparameter_weight_decay_Parameter[ 0 ] )\n",
    "    \n",
    "    print( \"--------------------------------------------------\" )\n",
    "    \n",
    "    print( \"Hyperparameter Tuning Parameter is Parameter lr0 {} Parameter momentumn {} Parameter mosaic {} Parameter degrees {} Parameter scale {} Parameter weight decay {}\".format( Hyperparameter_lr0 ,\n",
    "    Hyperparameter_momentum ,\n",
    "    Hyperparameter_mosaic , \n",
    "    Hyperparameter_degrees ,\n",
    "    Hyperparameter_scale ,\n",
    "    Hyperparameter_weight_decay ) )\n",
    "    \n",
    "    \"\"\"\n",
    "    Hyperparameter_ML_Tuning_DF = Hyperparameter_ML_Tuning_DF.append( { \"Parameter_Tuning\" :  Number_of_Hyperparameter_Tuning ,\n",
    "                                             \"Parameter_lr0\" : Hyperparameter_lr0 ,\n",
    "                                             \"Parameter_momentum\" : Hyperparameter_momentum ,\n",
    "                                             \"Parameter_mosaic\" : Hyperparameter_mosaic ,\n",
    "                                             \"Parameter_degrees\" : Hyperparameter_degrees ,\n",
    "                                             \"Parameter_scale\" : Hyperparameter_scale ,\n",
    "                                             \"Parameter_weight_decay\" : Hyperparameter_weight_decay ,\n",
    "                                             \"Parameter_mAP_Metrics\" : -100 } , ignore_index = True )\n",
    "    \"\"\"\n",
    "    \n",
    "    Hyperparameter_ML_Tuning_DF.loc[len(Hyperparameter_ML_Tuning_DF)] = { \"Parameter_Tuning\" :  Number_of_Hyperparameter_Tuning ,\n",
    "                                             \"Parameter_lr0\" : Hyperparameter_lr0 ,\n",
    "                                             \"Parameter_momentum\" : Hyperparameter_momentum ,\n",
    "                                             \"Parameter_mosaic\" : Hyperparameter_mosaic ,\n",
    "                                             \"Parameter_degrees\" : Hyperparameter_degrees ,\n",
    "                                             \"Parameter_scale\" : Hyperparameter_scale ,\n",
    "                                             \"Parameter_weight_decay\" : Hyperparameter_weight_decay ,\n",
    "                                             \"Parameter_mAP_Metrics\" : -100 } #new_row # only use with a RangeIndex!\n",
    "    \n",
    "    # Make Hyperparameter Machine Learning YOLO V5 Hyperparameter Parameter Tuning Hyperparameter Configuration\n",
    "    \n",
    "    Name_of_Hyperparameter_Tuning_Experiment = NAME_OF_FIRST_EXPERIMENT_HYPERPARAMETER_TUNING + \"_Parameter_\" + str( Number_of_Hyperparameter_Tuning )\n",
    "    \n",
    "    Name_of_Hyperparameter_File = NAME_OF_FILE_HYPERPARAMETER_FILES_HYPERPARAMETER_TUNING.replace( \".yaml\" , \"\" ) + \"_Parameter_\" + str( Number_of_Hyperparameter_Tuning ) + \".yaml\" \n",
    "    \n",
    "    os.system( \"cp \" + NAME_OF_FOLDER_HYPERPARAMETER_FILES_HYPERPARAMETER_TUNING + \"/\" + NAME_OF_FILE_HYPERPARAMETER_FILES_HYPERPARAMETER_TUNING + \" \" + NAME_OF_FOLDER_HYPERPARAMETER_FILES_HYPERPARAMETER_TUNING + Name_of_Hyperparameter_File )\n",
    "    \n",
    "    \n",
    "    replace( NAME_OF_FOLDER_HYPERPARAMETER_FILES_HYPERPARAMETER_TUNING + Name_of_Hyperparameter_File ,\n",
    "              \"lr0: 0.01\" ,\n",
    "           \"lr0: \" + str( Hyperparameter_lr0 ) )\n",
    "    \n",
    "    replace( NAME_OF_FOLDER_HYPERPARAMETER_FILES_HYPERPARAMETER_TUNING + Name_of_Hyperparameter_File ,\n",
    "              \"momentum: 0.937\" ,\n",
    "           \"momentum: \" + str( Hyperparameter_momentum ) )\n",
    "    \n",
    "    replace( NAME_OF_FOLDER_HYPERPARAMETER_FILES_HYPERPARAMETER_TUNING + Name_of_Hyperparameter_File ,\n",
    "              \"mosaic: 1.0\" ,\n",
    "           \"mosaic: \" + str( Hyperparameter_mosaic ) )\n",
    "    \n",
    "    replace( NAME_OF_FOLDER_HYPERPARAMETER_FILES_HYPERPARAMETER_TUNING + Name_of_Hyperparameter_File ,\n",
    "              \"mosaic: 1.0\" ,\n",
    "           \"mosaic: \" + str( Hyperparameter_mosaic ) )\n",
    "    \n",
    "    replace( NAME_OF_FOLDER_HYPERPARAMETER_FILES_HYPERPARAMETER_TUNING + Name_of_Hyperparameter_File ,\n",
    "              \"degrees: 0.0\" ,\n",
    "           \"degrees: \" + str( Hyperparameter_degrees ) )\n",
    "    \n",
    "    replace( NAME_OF_FOLDER_HYPERPARAMETER_FILES_HYPERPARAMETER_TUNING + Name_of_Hyperparameter_File ,\n",
    "              \"scale: 0.9\" ,\n",
    "           \"scale: \" + str( Hyperparameter_scale ) )\n",
    "    \n",
    "    replace( NAME_OF_FOLDER_HYPERPARAMETER_FILES_HYPERPARAMETER_TUNING + Name_of_Hyperparameter_File ,\n",
    "              \"weight_decay: 0.0005\" ,\n",
    "           \"weight_decay: \" + str( Hyperparameter_weight_decay ) )\n",
    "    \n",
    "    # Train Hyperparameter Machine Learning YOLO V5 Parameter Tuning\n",
    "    \n",
    "    \n",
    "    \"\"\"\n",
    "    print( [ \"python\" , YOLO_V5_PATH_DIRECTORY + \"train.py\", \n",
    "                    \"--epochs\" , NUMBER_OF_HYPERPARAMETER_TUNING_TRAIN_EPOCHS  ,\n",
    "                   \"--data\" , \" '\" + YOLO_V5_PATH_DIRECTORY + \"data/traffic_data/data_1.yaml'\" ,\n",
    "                   \"--weights\" , yolov5s.pt ,\n",
    "                   \"--cache\" ,\n",
    "                   \"--batch-size\" , 16 ,\n",
    "                   \"--project\",  NAME_OF_PROJECT_HYPERPARAMETER_TUNING  ,\n",
    "                  \"--name \" , Name_of_Hyperparameter_Tuning_Experiment ])\n",
    "    \"\"\"\n",
    "    \n",
    "    subprocess.run([ \"python\" , YOLO_V5_PATH_DIRECTORY + \"train.py\", \n",
    "                    \"--epochs\" , str( NUMBER_OF_HYPERPARAMETER_TUNING_TRAIN_EPOCHS )  ,\n",
    "                   \"--data\" , YOLO_V5_PATH_DIRECTORY + \"data/traffic_data/data_1.yaml\" ,\n",
    "                   \"--weights\" , YOLO_V5_PATH_DIRECTORY + \"yolov5s.pt\" ,\n",
    "                   \"--cache\" ,\n",
    "                   \"--batch-size\" , str( 16 ) ,\n",
    "                   \"--project\",  NAME_OF_PROJECT_HYPERPARAMETER_TUNING  ,\n",
    "                  \"--name\" , Name_of_Hyperparameter_Tuning_Experiment ] )\n",
    "    \n",
    "    Data_Result_Tuning_Hyperparameter_Result = pd.read_csv( YOLO_V5_PATH_DIRECTORY + NAME_OF_PROJECT_HYPERPARAMETER_TUNING + \"/\" + Name_of_Hyperparameter_Tuning_Experiment  + \"/\" + \"result.csv\" , sep='\\t' )\n",
    "    \n",
    "    display( Data_Result_Tuning_Hyperparameter_Result )\n",
    "    \n",
    "    Hyperparameter_ML_Tuning_DF = Hyperparameter_ML_Tuning_DF.replace( { \"-100\" : Data_Result_Tuning_Hyperparameter_Result[ \"metrics/mAP_0.5\" ].max( ) } )\n",
    "    \n",
    "export = Hyperparameter_ML_Tuning_DF.to_csv( \"Hyperparameter_Tuning_YOLO_V5_Result.csv\" )\n",
    "\n",
    "display( Hyperparameter_ML_Tuning_DF )"
   ]
  },
  {
   "cell_type": "code",
   "execution_count": null,
   "id": "2181c852",
   "metadata": {},
   "outputs": [],
   "source": [
    "#os.popen(\"sudo -S %s\"%( \"pip install torchvision==0.15.2\" ), 'w').write(' ')"
   ]
  },
  {
   "cell_type": "code",
   "execution_count": null,
   "id": "d6da6b24",
   "metadata": {},
   "outputs": [],
   "source": []
  }
 ],
 "metadata": {
  "kernelspec": {
   "display_name": "Python 3 (ipykernel)",
   "language": "python",
   "name": "python3"
  },
  "language_info": {
   "codemirror_mode": {
    "name": "ipython",
    "version": 3
   },
   "file_extension": ".py",
   "mimetype": "text/x-python",
   "name": "python",
   "nbconvert_exporter": "python",
   "pygments_lexer": "ipython3",
   "version": "3.8.10"
  }
 },
 "nbformat": 4,
 "nbformat_minor": 5
}
